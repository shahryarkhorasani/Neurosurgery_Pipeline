{
 "cells": [
  {
   "cell_type": "code",
   "execution_count": 1,
   "metadata": {},
   "outputs": [
    {
     "ename": "ModuleNotFoundError",
     "evalue": "No module named 'fast_mri_view'",
     "output_type": "error",
     "traceback": [
      "\u001b[0;31m---------------------------------------------------------------------------\u001b[0m",
      "\u001b[0;31mModuleNotFoundError\u001b[0m                       Traceback (most recent call last)",
      "\u001b[0;32m<ipython-input-1-dcce7fd74b18>\u001b[0m in \u001b[0;36m<module>\u001b[0;34m\u001b[0m\n\u001b[1;32m      7\u001b[0m \u001b[0;32mfrom\u001b[0m \u001b[0msklearn\u001b[0m\u001b[0;34m.\u001b[0m\u001b[0mpreprocessing\u001b[0m \u001b[0;32mimport\u001b[0m \u001b[0mOneHotEncoder\u001b[0m\u001b[0;34m\u001b[0m\u001b[0;34m\u001b[0m\u001b[0m\n\u001b[1;32m      8\u001b[0m \u001b[0;32mimport\u001b[0m \u001b[0mos\u001b[0m\u001b[0;34m.\u001b[0m\u001b[0mpath\u001b[0m\u001b[0;34m\u001b[0m\u001b[0;34m\u001b[0m\u001b[0m\n\u001b[0;32m----> 9\u001b[0;31m \u001b[0;32mfrom\u001b[0m \u001b[0mfast_mri_view\u001b[0m \u001b[0;32mimport\u001b[0m \u001b[0;34m*\u001b[0m\u001b[0;34m\u001b[0m\u001b[0;34m\u001b[0m\u001b[0m\n\u001b[0m",
      "\u001b[0;31mModuleNotFoundError\u001b[0m: No module named 'fast_mri_view'"
     ]
    }
   ],
   "source": [
    "import os\n",
    "import glob\n",
    "import re\n",
    "import shutil\n",
    "import nibabel as nib\n",
    "import pandas as pd\n",
    "from sklearn.preprocessing import OneHotEncoder\n",
    "import os.path\n",
    "from fast_mri_view import *"
   ]
  },
  {
   "cell_type": "code",
   "execution_count": 38,
   "metadata": {},
   "outputs": [],
   "source": [
    "import numpy as np"
   ]
  },
  {
   "cell_type": "code",
   "execution_count": 2,
   "metadata": {},
   "outputs": [],
   "source": [
    "dicomdir = '/mnt/projects/charite-brains/original/dicoms/'\n",
    "niftidir = '/mnt/projects/charite-brains/original/niftis/'"
   ]
  },
  {
   "cell_type": "code",
   "execution_count": null,
   "metadata": {},
   "outputs": [],
   "source": []
  },
  {
   "cell_type": "code",
   "execution_count": 22,
   "metadata": {},
   "outputs": [
    {
     "name": "stdout",
     "output_type": "stream",
     "text": [
      "[Errno 2] No such file or directory: '/mnt/projects/charite-brains/original/dicoms/mr582/t1c/t1c_mni.nii.gzBrainExtractionBrain.nii.gz'\n",
      "[Errno 2] No such file or directory: '/mnt/projects/charite-brains/original/dicoms/mr602/t1c/t1c_mni.nii.gzBrainExtractionBrain.nii.gz'\n",
      "[Errno 2] No such file or directory: '/mnt/projects/charite-brains/original/dicoms/mr611/t1c/t1c_mni.nii.gzBrainExtractionBrain.nii.gz'\n",
      "[Errno 2] No such file or directory: '/mnt/projects/charite-brains/original/dicoms/mr604/t1c/t1c_mni.nii.gzBrainExtractionBrain.nii.gz'\n",
      "[Errno 2] No such file or directory: '/mnt/projects/charite-brains/original/dicoms/mr612/t1c/t1c_mni.nii.gzBrainExtractionBrain.nii.gz'\n",
      "[Errno 2] No such file or directory: '/mnt/projects/charite-brains/original/dicoms/mr616/t1c/t1c_mni.nii.gzBrainExtractionBrain.nii.gz'\n",
      "[Errno 2] No such file or directory: '/mnt/projects/charite-brains/original/dicoms/mr590/t1c/t1c_mni.nii.gzBrainExtractionBrain.nii.gz'\n",
      "[Errno 2] No such file or directory: '/mnt/projects/charite-brains/original/dicoms/mr613/t1c/t1c_mni.nii.gzBrainExtractionBrain.nii.gz'\n",
      "[Errno 2] No such file or directory: '/mnt/projects/charite-brains/original/dicoms/mr632/t1c/t1c_mni.nii.gzBrainExtractionBrain.nii.gz'\n"
     ]
    }
   ],
   "source": [
    "for subject in subjects:\n",
    "    try:\n",
    "        os.makedirs(os.path.dirname(niftidir + subject + '/t1c/'), exist_ok=True)\n",
    "        shutil.move(dicomdir + subject + '/t1c/t1c_mni.nii.gzBrainExtractionBrain.nii.gz', niftidir + subject + '/t1c/t1cBrainExtractionBrain.nii.gz')\n",
    "    except os.error as e:\n",
    "        print(e)"
   ]
  },
  {
   "cell_type": "code",
   "execution_count": 39,
   "metadata": {},
   "outputs": [],
   "source": [
    "for p in glob.glob(dicomdir + '*/*/*ras.nii*'):\n",
    "    try:\n",
    "        os.makedirs(os.path.dirname(niftidir + p.split('dicoms')[1]), exist_ok=True)\n",
    "        shutil.move(p, niftidir + p.split('dicoms')[1])\n",
    "    except os.error as e:\n",
    "        print(e)"
   ]
  },
  {
   "cell_type": "code",
   "execution_count": 42,
   "metadata": {},
   "outputs": [],
   "source": [
    "for p in glob.glob(dicomdir + '*/*/*BrainExtraction*'):\n",
    "    try:\n",
    "        os.makedirs(os.path.dirname(niftidir + p.split('dicoms')[1]), exist_ok=True)\n",
    "        shutil.move(p, niftidir + p.split('dicoms')[1])\n",
    "    except os.error as e:\n",
    "        print(e)"
   ]
  },
  {
   "cell_type": "code",
   "execution_count": 4,
   "metadata": {},
   "outputs": [],
   "source": [
    "for p in glob.glob(dicomdir + '*/*/*BrainExtraction*'):\n",
    "    print(niftidir + p.split('dicoms')[1])\n"
   ]
  },
  {
   "cell_type": "code",
   "execution_count": 4,
   "metadata": {},
   "outputs": [],
   "source": [
    "'/t1c/t1c_mni.nii.gzBrainExtractionBrain.nii.gz'\n",
    "scans = glob.glob(parentdir)"
   ]
  },
  {
   "cell_type": "code",
   "execution_count": null,
   "metadata": {},
   "outputs": [],
   "source": [
    "#rename files\n",
    "#copy niftis to another directory"
   ]
  },
  {
   "cell_type": "code",
   "execution_count": null,
   "metadata": {},
   "outputs": [],
   "source": [
    "mistake = 't1c_mni.nii.gzBrainExtractionBrain.nii.gz'\n",
    "correct = 't1cBrainExtractionBrain.nii.gz'"
   ]
  },
  {
   "cell_type": "code",
   "execution_count": null,
   "metadata": {},
   "outputs": [],
   "source": [
    "for masks in scans:\n",
    "    shutil.move(,)"
   ]
  },
  {
   "cell_type": "code",
   "execution_count": null,
   "metadata": {},
   "outputs": [],
   "source": [
    "## rename validated brain masks "
   ]
  },
  {
   "cell_type": "code",
   "execution_count": 28,
   "metadata": {},
   "outputs": [
    {
     "data": {
      "text/plain": [
       "['t1cBrainExtractionBrain.nii.gz',\n",
       " 't1c_ras.nii',\n",
       " 't1c_mni.nii.gzBrainExtractionPrior0GenericAffine.mat',\n",
       " 't1c_mni.nii.gzBrainExtractionMask.nii.gz']"
      ]
     },
     "execution_count": 28,
     "metadata": {},
     "output_type": "execute_result"
    }
   ],
   "source": [
    "os.listdir('/mnt/projects/charite-brains/original/niftis/mr458/t1c/')"
   ]
  },
  {
   "cell_type": "code",
   "execution_count": 29,
   "metadata": {},
   "outputs": [],
   "source": [
    "niftis = '/mnt/projects/charite-brains/original/niftis/'\n",
    "for p in glob.glob(niftis + '*/*/*'):\n",
    "    np = p.replace(\"_mni.nii.\", '')\n",
    "    os.rename(p, np)"
   ]
  },
  {
   "cell_type": "code",
   "execution_count": 42,
   "metadata": {},
   "outputs": [],
   "source": [
    "for p in glob.glob(niftis + '*/*/*'):\n",
    "    np = p.replace('t1cgz','t1c')\n",
    "    os.rename(p, np)\n",
    "    "
   ]
  },
  {
   "cell_type": "code",
   "execution_count": 25,
   "metadata": {},
   "outputs": [
    {
     "data": {
      "text/plain": [
       "['ANTs_Brain_Templates.zip',\n",
       " 'IXI.zip',\n",
       " 'NKI.zip',\n",
       " 'Oasis.zip',\n",
       " 'NKI10andUnder.zip',\n",
       " 'Kirby.zip',\n",
       " 'KirbyMultiModal.zip',\n",
       " 'MICCAI2012_Multi_Atlas_Challenge_Data',\n",
       " 'validated_scans',\n",
       " 'validated_files']"
      ]
     },
     "execution_count": 25,
     "metadata": {},
     "output_type": "execute_result"
    }
   ],
   "source": [
    "os.listdir('/mnt/projects/charite-brains/derived')"
   ]
  },
  {
   "cell_type": "code",
   "execution_count": 32,
   "metadata": {},
   "outputs": [],
   "source": [
    "validated_files = '/mnt/projects/charite-brains/derived/validated_files/'"
   ]
  },
  {
   "cell_type": "code",
   "execution_count": null,
   "metadata": {},
   "outputs": [],
   "source": [
    "for p in glob.glob(validated_files + '*/*/*'):\n",
    "    np =  p.replace(\" \", '')\n",
    "    np = np.replace(\"(1)\", '')\n",
    "\n",
    "    os.rename(p, np)\n",
    "\n",
    "for p in glob.glob(validated_files + '*/*/*'):\n",
    "    np = p.replace('_mni_val', 'BrainExtractionMask_val')\n",
    "    np = np.replace('_mni.nii.gz', '')\n",
    "    os.rename(p,np)\n",
    "\n",
    "for p in glob.glob(validated_files + '*/*/'):\n",
    "    np =  p.replace(\" \", '')\n",
    "    np = np.replace(\"(1)\", '')\n",
    "\n",
    "    os.rename(p, np)"
   ]
  },
  {
   "cell_type": "code",
   "execution_count": 44,
   "metadata": {},
   "outputs": [
    {
     "data": {
      "text/plain": [
       "'/mnt/projects/charite-brains/derived/validated_files/'"
      ]
     },
     "execution_count": 44,
     "metadata": {},
     "output_type": "execute_result"
    }
   ],
   "source": [
    "validated_files"
   ]
  },
  {
   "cell_type": "code",
   "execution_count": 74,
   "metadata": {},
   "outputs": [
    {
     "data": {
      "text/plain": [
       "'/mnt/projects/charite-brains/original/niftis'"
      ]
     },
     "execution_count": 74,
     "metadata": {},
     "output_type": "execute_result"
    }
   ],
   "source": [
    "niftidir"
   ]
  },
  {
   "cell_type": "code",
   "execution_count": null,
   "metadata": {},
   "outputs": [],
   "source": [
    "modality + 'BrainExtractionMask_val.nii.gz'"
   ]
  },
  {
   "cell_type": "code",
   "execution_count": 92,
   "metadata": {},
   "outputs": [],
   "source": [
    "\n",
    "for p in glob.glob(validated_files + '*/*/'):\n",
    "\n",
    "    np = p.replace(\"_mni.nii.gz\", '')\n",
    "    np = np.replace(\" \", '')\n",
    "    np = np.replace(\" (1)\", '')\n",
    "    np = np.replace(\" (11)\", '')\n",
    "    np = np.replace('_mni.nii.gz', '')\n",
    "    np = np.replace('_vlltT1C_', '')\n",
    "    os.rename(p, np)"
   ]
  },
  {
   "cell_type": "code",
   "execution_count": 126,
   "metadata": {},
   "outputs": [
    {
     "name": "stdout",
     "output_type": "stream",
     "text": [
      "mr405 flair /mnt/projects/charite-brains/derived/validated_files/mr405/flair/flairBrainExtractionMask_val.nii.gz\n",
      "mr405 t1 /mnt/projects/charite-brains/derived/validated_files/mr405/t1/t1BrainExtractionMask_val.nii.gz\n",
      "mr405 t1c /mnt/projects/charite-brains/derived/validated_files/mr405/t1c/t1cBrainExtractionMask_val.nii.gz\n",
      "mr405 t2f /mnt/projects/charite-brains/derived/validated_files/mr405/t2f/t2fBrainExtractionMask_val.nii.gz\n"
     ]
    }
   ],
   "source": [
    "for p in glob.glob(validated_files + '*/*/*'):\n",
    "    if 'mr405' in p:\n",
    "        print(p.split('/')[6], p.split('/')[7], p)"
   ]
  },
  {
   "cell_type": "code",
   "execution_count": 117,
   "metadata": {},
   "outputs": [],
   "source": [
    "for subject in os.listdir(validated_files):\n",
    "    for modality in os.listdir(niftidir + '/' + subject):\n",
    "        "
   ]
  },
  {
   "cell_type": "code",
   "execution_count": 132,
   "metadata": {},
   "outputs": [],
   "source": [
    "for p in glob.glob(validated_files + '*/*/*'):\n",
    "    subject = p.split('/')[6]\n",
    "    modality = p.split('/')[7]\n",
    "    if subject in os.listdir(niftidir):\n",
    "        if modality in os.listdir(niftidir +  '/' + subject):\n",
    "            try:\n",
    "                shutil.copy(p, niftidir +  '/' + subject + '/' + modality + '/' + p.split('/')[8])\n",
    "            except os.error as e:\n",
    "                print(e)\n"
   ]
  },
  {
   "cell_type": "code",
   "execution_count": 35,
   "metadata": {},
   "outputs": [
    {
     "ename": "FileNotFoundError",
     "evalue": "[Errno 2] No such file or directory: '/home/Shahryar.Khorasani/netstore/tms/403/mr403_t1c_tumor/' -> '/home/Shahryar.Khorasani/netstore/env_txt/403/mr403_t1c_tumor/'",
     "output_type": "error",
     "traceback": [
      "\u001b[0;31m---------------------------------------------------------------------------\u001b[0m",
      "\u001b[0;31mFileNotFoundError\u001b[0m                         Traceback (most recent call last)",
      "\u001b[0;32m<ipython-input-35-b59177cd3eeb>\u001b[0m in \u001b[0;36m<module>\u001b[0;34m\u001b[0m\n\u001b[1;32m      1\u001b[0m \u001b[0mex\u001b[0m \u001b[0;34m=\u001b[0m \u001b[0;34m'/home/Shahryar.Khorasani/netstore/tms/403/mr403_t1c_tumor/'\u001b[0m\u001b[0;34m\u001b[0m\u001b[0;34m\u001b[0m\u001b[0m\n\u001b[1;32m      2\u001b[0m \u001b[0mnew\u001b[0m \u001b[0;34m=\u001b[0m \u001b[0mex\u001b[0m\u001b[0;34m.\u001b[0m\u001b[0mreplace\u001b[0m\u001b[0;34m(\u001b[0m\u001b[0;34m'tms'\u001b[0m\u001b[0;34m,\u001b[0m \u001b[0;34m'env_txt'\u001b[0m\u001b[0;34m)\u001b[0m\u001b[0;34m\u001b[0m\u001b[0;34m\u001b[0m\u001b[0m\n\u001b[0;32m----> 3\u001b[0;31m \u001b[0mos\u001b[0m\u001b[0;34m.\u001b[0m\u001b[0mrename\u001b[0m\u001b[0;34m(\u001b[0m\u001b[0mex\u001b[0m\u001b[0;34m,\u001b[0m\u001b[0mnew\u001b[0m\u001b[0;34m)\u001b[0m\u001b[0;34m\u001b[0m\u001b[0;34m\u001b[0m\u001b[0m\n\u001b[0m",
      "\u001b[0;31mFileNotFoundError\u001b[0m: [Errno 2] No such file or directory: '/home/Shahryar.Khorasani/netstore/tms/403/mr403_t1c_tumor/' -> '/home/Shahryar.Khorasani/netstore/env_txt/403/mr403_t1c_tumor/'"
     ]
    }
   ],
   "source": [
    "ex = '/home/Shahryar.Khorasani/netstore/tms/403/mr403_t1c_tumor/'\n",
    "new = ex.replace('tms', 'env_txt')\n",
    "os.mv(ex,new)"
   ]
  },
  {
   "cell_type": "code",
   "execution_count": 125,
   "metadata": {},
   "outputs": [],
   "source": [
    "corrected_validated_files = '/mnt/projects/charite-brains/derived/correct_naming_validated_files/validated_files/'"
   ]
  },
  {
   "cell_type": "code",
   "execution_count": 129,
   "metadata": {},
   "outputs": [],
   "source": [
    "#for p in glob.glob(corrected_validated_files + '*/*/*'):\n",
    "#    if os.path.isfile(p): \n",
    "#        subject = p.split('/')[7]\n",
    "#        modality_dir = p.split('/')[8]\n",
    "#        scan_modality = p.split('/')[9][:-30]\n",
    "#        if scan_modality != modality_dir:\n",
    "#            print(subject, scan_modality, modality_dir)"
   ]
  },
  {
   "cell_type": "code",
   "execution_count": 65,
   "metadata": {},
   "outputs": [],
   "source": [
    "for p in glob.glob(corrected_validated_files + '*/*/*'):\n",
    "    if os.path.isfile(p): \n",
    "        subject = p.split('/')[7]\n",
    "        modality_dir = p.split('/')[8]\n",
    "        scan_modality = p.split('/')[9][:-30]\n",
    "        if scan_modality == modality_dir:\n",
    "            if scan_modality in os.listdir(niftidir + subject):\n",
    "                try:\n",
    "                    shutil.copy(p, niftidir + subject + '/' + scan_modality + '/' + p.split('/')[9])\n",
    "                except os.error as e:\n",
    "                    print(e)\n"
   ]
  },
  {
   "cell_type": "code",
   "execution_count": 50,
   "metadata": {},
   "outputs": [
    {
     "data": {
      "text/plain": [
       "['t2fBrainExtractionMask_val.nii.gz']"
      ]
     },
     "execution_count": 50,
     "metadata": {},
     "output_type": "execute_result"
    }
   ],
   "source": [
    "os.listdir(corrected_validated_files + 'mr535/t2')"
   ]
  },
  {
   "cell_type": "code",
   "execution_count": 156,
   "metadata": {},
   "outputs": [],
   "source": [
    "for p in glob.glob(validated_files + '/*/*'):\n",
    "    if os.path.isfile(p): \n",
    "        subject = p.split('/')[6]\n",
    "        modality = p.split('/')[7][:-30]\n",
    "        \n",
    "        if subject in os.listdir(niftidir):\n",
    "            if modality in os.listdir(niftidir +  '/' + subject):\n",
    "                try:\n",
    "                    shutil.copy(p, niftidir +  '/' + subject + '/' + modality + '/' + p.split('/')[7])\n",
    "                except os.error as e:\n",
    "                    print(e)\n"
   ]
  },
  {
   "cell_type": "code",
   "execution_count": 66,
   "metadata": {},
   "outputs": [
    {
     "name": "stdout",
     "output_type": "stream",
     "text": [
      "96\n"
     ]
    }
   ],
   "source": [
    "validated_scans = []\n",
    "for p in glob.glob(niftidir + '/*/*/*BrainExtractionMask_val.nii.gz'):\n",
    "    validated_scans.append(p.split('/')[6])\n",
    "    \n",
    "\n",
    "validated_scans.sort()\n",
    "\n",
    "validated_scans=set(validated_scans)\n",
    "\n",
    "print(len(validated_scans))"
   ]
  },
  {
   "cell_type": "code",
   "execution_count": 67,
   "metadata": {},
   "outputs": [
    {
     "name": "stdout",
     "output_type": "stream",
     "text": [
      "modality: t1c\n",
      "n of subjects with dicom: 100\n",
      "n of subjects with nii_ras scans: 100\n",
      "n of subjects with brain-extracted scans: 92\n",
      "n of subjects with validated brain-extracted scans: 87\n"
     ]
    }
   ],
   "source": [
    "modality = 't1c'\n",
    "print('modality:', modality)\n",
    "dicom = []\n",
    "for p in glob.glob('/mnt/projects/charite-brains/original/dicoms/*/{}/Study1/Series1/Image1.dcm'.format(modality)):\n",
    "    dicom.append(p.split('/')[6])\n",
    "\n",
    "print('n of subjects with dicom:', len(dicom))\n",
    "\n",
    "nii_ras = []\n",
    "for p in glob.glob('/mnt/projects/charite-brains/original/niftis/*/{}/{}_ras.nii'.format(modality,modality)):\n",
    "    nii_ras.append(p.split('/')[6])\n",
    "\n",
    "print('n of subjects with nii_ras scans:', len(nii_ras))\n",
    "\n",
    "be = []\n",
    "for p in glob.glob('/mnt/projects/charite-brains/original/niftis/*/{}/{}BrainExtractionBrain.nii.gz'.format(modality,modality)):\n",
    "    be.append(p.split('/')[6])\n",
    "\n",
    "print('n of subjects with brain-extracted scans:', len(be))\n",
    "\n",
    "be_val = []\n",
    "\n",
    "for p in glob.glob('/mnt/projects/charite-brains/original/niftis/*/{}/{}BrainExtractionMask_val.nii.gz'.format(modality,modality)):\n",
    "    be_val.append(p.split('/')[6])\n",
    "    \n",
    "print('n of subjects with validated brain-extracted scans:', len(be_val))   \n",
    "\n",
    "t1c_dicom = dicom\n",
    "t1c_nii_ras = nii_ras\n",
    "t1c_be = be\n",
    "t1c_be_val = be_val"
   ]
  },
  {
   "cell_type": "code",
   "execution_count": 3,
   "metadata": {},
   "outputs": [],
   "source": [
    "def scan_stats(modality, outdir):    \n",
    "    print('modality:', modality)\n",
    "    dicom = []\n",
    "    for p in glob.glob('/mnt/projects/charite-brains/original/dicoms/*/{}/Study1/Series1/Image1.dcm'.format(modality)):\n",
    "        dicom.append(p.split('/')[6])\n",
    "    \n",
    "    print('n of subjects with dicom:', len(dicom))\n",
    "    \n",
    "    nii_ras = []\n",
    "    for p in glob.glob('/mnt/projects/charite-brains/original/niftis/*/{}/{}_ras.nii'.format(modality,modality)):\n",
    "        nii_ras.append(p.split('/')[6])\n",
    "    \n",
    "    print('n of subjects with nii_ras scans:', len(nii_ras))\n",
    "    \n",
    "    be = []\n",
    "    for p in glob.glob('/mnt/projects/charite-brains/original/niftis/*/{}/{}BrainExtractionBrain.nii.gz'.format(modality,modality)):\n",
    "        be.append(p.split('/')[6])\n",
    "    \n",
    "    print('n of subjects with brain-extracted scans:', len(be))\n",
    "    \n",
    "    be_val = []\n",
    "    \n",
    "    for p in glob.glob('/mnt/projects/charite-brains/original/niftis/*/{}/{}BrainExtractionMask_val.nii.gz'.format(modality,modality)):\n",
    "        be_val.append(p.split('/')[6])\n",
    "        \n",
    "    print('n of subjects with validated brain-extracted scans:', len(be_val))\n",
    "    \n",
    "    df = pd.DataFrame(dicom)\n",
    "    df = pd.DataFrame(columns=['id','nii_ras','skull_stripped', 'validated_skull_stripped'])   \n",
    "\n",
    "    df.id = dicom\n",
    "    for ID, i in enumerate(df.id):\n",
    "        if i in nii_ras:\n",
    "            df.iloc[ID]['nii_ras'] = 1\n",
    "        if i in be:\n",
    "            df.iloc[ID]['skull_stripped'] = 1\n",
    "        if i in be_val:\n",
    "            df.iloc[ID]['validated_skull_stripped'] = 1\n",
    "        ndf = df.fillna(0)\n",
    "    #if not os.path.exists(outdir):\n",
    "    #    os.mkdir(outdir)\n",
    "    #fullname = os.path.join(outdir, '/{}_preproc_stats.csv'.format(modality))\n",
    "    ndf.to_csv(outdir,index=False)"
   ]
  },
  {
   "cell_type": "code",
   "execution_count": null,
   "metadata": {},
   "outputs": [],
   "source": [
    "\n",
    "import os\n",
    "\n",
    "outname = 'name.csv'\n",
    "\n",
    "outdir = './dir'\n",
    "if not os.path.exists(outdir):\n",
    "    os.mkdir(outdir)\n",
    "\n",
    "fullname = os.path.join(outdir, outname)    \n",
    "\n",
    "df.to_csv(fullname)"
   ]
  },
  {
   "cell_type": "code",
   "execution_count": 159,
   "metadata": {},
   "outputs": [
    {
     "data": {
      "text/plain": [
       "32"
      ]
     },
     "execution_count": 159,
     "metadata": {},
     "output_type": "execute_result"
    }
   ],
   "source": [
    "8+5+4+7+8"
   ]
  },
  {
   "cell_type": "code",
   "execution_count": 4,
   "metadata": {},
   "outputs": [
    {
     "name": "stdout",
     "output_type": "stream",
     "text": [
      "modality: t1c\n",
      "n of subjects with dicom: 100\n",
      "n of subjects with nii_ras scans: 100\n",
      "n of subjects with brain-extracted scans: 92\n",
      "n of subjects with validated brain-extracted scans: 92\n"
     ]
    }
   ],
   "source": [
    "scan_stats('t1c', outdir='/home/Shahryar.Khorasani/t1c_preproc_stats.csv')"
   ]
  },
  {
   "cell_type": "code",
   "execution_count": 5,
   "metadata": {},
   "outputs": [
    {
     "name": "stdout",
     "output_type": "stream",
     "text": [
      "modality: t1\n",
      "n of subjects with dicom: 78\n",
      "n of subjects with nii_ras scans: 77\n",
      "n of subjects with brain-extracted scans: 72\n",
      "n of subjects with validated brain-extracted scans: 71\n"
     ]
    }
   ],
   "source": [
    "scan_stats('t1', outdir='/home/Shahryar.Khorasani/t1_preproc_stats.csv')"
   ]
  },
  {
   "cell_type": "code",
   "execution_count": 6,
   "metadata": {},
   "outputs": [
    {
     "name": "stdout",
     "output_type": "stream",
     "text": [
      "modality: t2\n",
      "n of subjects with dicom: 36\n",
      "n of subjects with nii_ras scans: 35\n",
      "n of subjects with brain-extracted scans: 31\n",
      "n of subjects with validated brain-extracted scans: 31\n"
     ]
    }
   ],
   "source": [
    "scan_stats('t2', outdir='/home/Shahryar.Khorasani/t2_preproc_stats.csv')"
   ]
  },
  {
   "cell_type": "code",
   "execution_count": 7,
   "metadata": {},
   "outputs": [
    {
     "name": "stdout",
     "output_type": "stream",
     "text": [
      "modality: t2f\n",
      "n of subjects with dicom: 85\n",
      "n of subjects with nii_ras scans: 85\n",
      "n of subjects with brain-extracted scans: 78\n",
      "n of subjects with validated brain-extracted scans: 78\n"
     ]
    }
   ],
   "source": [
    "scan_stats('t2f', outdir='/home/Shahryar.Khorasani/t2f_preproc_stats.csv')"
   ]
  },
  {
   "cell_type": "code",
   "execution_count": 8,
   "metadata": {},
   "outputs": [
    {
     "name": "stdout",
     "output_type": "stream",
     "text": [
      "modality: flair\n",
      "n of subjects with dicom: 100\n",
      "n of subjects with nii_ras scans: 100\n",
      "n of subjects with brain-extracted scans: 92\n",
      "n of subjects with validated brain-extracted scans: 92\n"
     ]
    }
   ],
   "source": [
    "scan_stats('flair', outdir='/home/Shahryar.Khorasani/flair_preproc_stats.csv')"
   ]
  },
  {
   "cell_type": "code",
   "execution_count": 148,
   "metadata": {},
   "outputs": [],
   "source": [
    "t1c = pd.read_csv('/home/Shahryar.Khorasani/t1c_preproc_stats.csv')\n",
    "t1c_skullstriped = t1c[t1c.skull_stripped == 1]\n",
    "t1c_missing = t1c_skullstriped[t1c_skullstriped.validated_skull_stripped == 0]"
   ]
  },
  {
   "cell_type": "code",
   "execution_count": 149,
   "metadata": {},
   "outputs": [],
   "source": [
    "t1 = pd.read_csv('/home/Shahryar.Khorasani/t1_preproc_stats.csv')\n",
    "t1_skullstriped = t1[t1.skull_stripped == 1]\n",
    "t1_missing = t1_skullstriped[t1_skullstriped.validated_skull_stripped == 0]"
   ]
  },
  {
   "cell_type": "code",
   "execution_count": 150,
   "metadata": {},
   "outputs": [],
   "source": [
    "t2f = pd.read_csv('/home/Shahryar.Khorasani/t2f_preproc_stats.csv')\n",
    "t2f_skullstriped = t2f[t2f.skull_stripped == 1]\n",
    "t2f_missing = t2f_skullstriped[t2f_skullstriped.validated_skull_stripped == 0]"
   ]
  },
  {
   "cell_type": "code",
   "execution_count": 151,
   "metadata": {},
   "outputs": [],
   "source": [
    "flair = pd.read_csv('/home/Shahryar.Khorasani/flair_preproc_stats.csv')\n",
    "flair_skullstriped = flair[flair.skull_stripped == 1]\n",
    "flair_missing = flair_skullstriped[flair_skullstriped.validated_skull_stripped == 0]\n"
   ]
  },
  {
   "cell_type": "code",
   "execution_count": 152,
   "metadata": {},
   "outputs": [],
   "source": [
    "t1_missing.to_csv('/home/Shahryar.Khorasani/t1_missing.csv',index=False)\n",
    "t1c_missing.to_csv('/home/Shahryar.Khorasani/t1c_missing.csv',index=False)\n",
    "t2f_missing.to_csv('/home/Shahryar.Khorasani/t2f_missing.csv',index=False)\n",
    "flair_missing.to_csv('/home/Shahryar.Khorasani/flair_missing.csv',index=False)"
   ]
  },
  {
   "cell_type": "code",
   "execution_count": 153,
   "metadata": {},
   "outputs": [
    {
     "data": {
      "text/html": [
       "<div>\n",
       "<style scoped>\n",
       "    .dataframe tbody tr th:only-of-type {\n",
       "        vertical-align: middle;\n",
       "    }\n",
       "\n",
       "    .dataframe tbody tr th {\n",
       "        vertical-align: top;\n",
       "    }\n",
       "\n",
       "    .dataframe thead th {\n",
       "        text-align: right;\n",
       "    }\n",
       "</style>\n",
       "<table border=\"1\" class=\"dataframe\">\n",
       "  <thead>\n",
       "    <tr style=\"text-align: right;\">\n",
       "      <th></th>\n",
       "      <th>id</th>\n",
       "      <th>nii_ras</th>\n",
       "      <th>skull_stripped</th>\n",
       "      <th>validated_skull_stripped</th>\n",
       "    </tr>\n",
       "  </thead>\n",
       "  <tbody>\n",
       "    <tr>\n",
       "      <th>2</th>\n",
       "      <td>mr582</td>\n",
       "      <td>1</td>\n",
       "      <td>1</td>\n",
       "      <td>0</td>\n",
       "    </tr>\n",
       "  </tbody>\n",
       "</table>\n",
       "</div>"
      ],
      "text/plain": [
       "      id  nii_ras  skull_stripped  validated_skull_stripped\n",
       "2  mr582        1               1                         0"
      ]
     },
     "execution_count": 153,
     "metadata": {},
     "output_type": "execute_result"
    }
   ],
   "source": [
    "t1_missing"
   ]
  },
  {
   "cell_type": "code",
   "execution_count": 154,
   "metadata": {},
   "outputs": [
    {
     "data": {
      "text/html": [
       "<div>\n",
       "<style scoped>\n",
       "    .dataframe tbody tr th:only-of-type {\n",
       "        vertical-align: middle;\n",
       "    }\n",
       "\n",
       "    .dataframe tbody tr th {\n",
       "        vertical-align: top;\n",
       "    }\n",
       "\n",
       "    .dataframe thead th {\n",
       "        text-align: right;\n",
       "    }\n",
       "</style>\n",
       "<table border=\"1\" class=\"dataframe\">\n",
       "  <thead>\n",
       "    <tr style=\"text-align: right;\">\n",
       "      <th></th>\n",
       "      <th>id</th>\n",
       "      <th>nii_ras</th>\n",
       "      <th>skull_stripped</th>\n",
       "      <th>validated_skull_stripped</th>\n",
       "    </tr>\n",
       "  </thead>\n",
       "  <tbody>\n",
       "  </tbody>\n",
       "</table>\n",
       "</div>"
      ],
      "text/plain": [
       "Empty DataFrame\n",
       "Columns: [id, nii_ras, skull_stripped, validated_skull_stripped]\n",
       "Index: []"
      ]
     },
     "execution_count": 154,
     "metadata": {},
     "output_type": "execute_result"
    }
   ],
   "source": [
    "t1c_missing"
   ]
  },
  {
   "cell_type": "code",
   "execution_count": 155,
   "metadata": {},
   "outputs": [
    {
     "data": {
      "text/html": [
       "<div>\n",
       "<style scoped>\n",
       "    .dataframe tbody tr th:only-of-type {\n",
       "        vertical-align: middle;\n",
       "    }\n",
       "\n",
       "    .dataframe tbody tr th {\n",
       "        vertical-align: top;\n",
       "    }\n",
       "\n",
       "    .dataframe thead th {\n",
       "        text-align: right;\n",
       "    }\n",
       "</style>\n",
       "<table border=\"1\" class=\"dataframe\">\n",
       "  <thead>\n",
       "    <tr style=\"text-align: right;\">\n",
       "      <th></th>\n",
       "      <th>id</th>\n",
       "      <th>nii_ras</th>\n",
       "      <th>skull_stripped</th>\n",
       "      <th>validated_skull_stripped</th>\n",
       "    </tr>\n",
       "  </thead>\n",
       "  <tbody>\n",
       "  </tbody>\n",
       "</table>\n",
       "</div>"
      ],
      "text/plain": [
       "Empty DataFrame\n",
       "Columns: [id, nii_ras, skull_stripped, validated_skull_stripped]\n",
       "Index: []"
      ]
     },
     "execution_count": 155,
     "metadata": {},
     "output_type": "execute_result"
    }
   ],
   "source": [
    "t2f_missing"
   ]
  },
  {
   "cell_type": "code",
   "execution_count": 156,
   "metadata": {},
   "outputs": [
    {
     "data": {
      "text/html": [
       "<div>\n",
       "<style scoped>\n",
       "    .dataframe tbody tr th:only-of-type {\n",
       "        vertical-align: middle;\n",
       "    }\n",
       "\n",
       "    .dataframe tbody tr th {\n",
       "        vertical-align: top;\n",
       "    }\n",
       "\n",
       "    .dataframe thead th {\n",
       "        text-align: right;\n",
       "    }\n",
       "</style>\n",
       "<table border=\"1\" class=\"dataframe\">\n",
       "  <thead>\n",
       "    <tr style=\"text-align: right;\">\n",
       "      <th></th>\n",
       "      <th>id</th>\n",
       "      <th>nii_ras</th>\n",
       "      <th>skull_stripped</th>\n",
       "      <th>validated_skull_stripped</th>\n",
       "    </tr>\n",
       "  </thead>\n",
       "  <tbody>\n",
       "  </tbody>\n",
       "</table>\n",
       "</div>"
      ],
      "text/plain": [
       "Empty DataFrame\n",
       "Columns: [id, nii_ras, skull_stripped, validated_skull_stripped]\n",
       "Index: []"
      ]
     },
     "execution_count": 156,
     "metadata": {},
     "output_type": "execute_result"
    }
   ],
   "source": [
    "flair_missing"
   ]
  },
  {
   "cell_type": "code",
   "execution_count": null,
   "metadata": {},
   "outputs": [],
   "source": [
    "'mr539'"
   ]
  },
  {
   "cell_type": "code",
   "execution_count": 180,
   "metadata": {},
   "outputs": [
    {
     "name": "stdout",
     "output_type": "stream",
     "text": [
      "mr604\n",
      "mr618\n"
     ]
    }
   ],
   "source": [
    "for i in n_vals:\n",
    "    if i not in vals:\n",
    "        print(i)"
   ]
  },
  {
   "cell_type": "code",
   "execution_count": 215,
   "metadata": {},
   "outputs": [
    {
     "data": {
      "text/plain": [
       "['t1cBrainExtractionBrain.nii.gz',\n",
       " 't1c_ras.nii',\n",
       " 't1cBrainExtractionPrior0GenericAffine.mat',\n",
       " 't1cBrainExtractionMask.nii.gz',\n",
       " 't1cBrainExtractionMask_val.nii.gz']"
      ]
     },
     "execution_count": 215,
     "metadata": {},
     "output_type": "execute_result"
    }
   ],
   "source": [
    "os.listdir('/mnt/projects/charite-brains/original/niftis/mr403/t1c/')"
   ]
  },
  {
   "cell_type": "code",
   "execution_count": 195,
   "metadata": {},
   "outputs": [
    {
     "data": {
      "text/plain": [
       "100"
      ]
     },
     "execution_count": 195,
     "metadata": {},
     "output_type": "execute_result"
    }
   ],
   "source": [
    "unvalidated_brain_masks = []\n",
    "for p in glob.glob(niftidir + '/*/*/*BrainExtractionMask.nii.gz'):\n",
    "    unvalidated_brain_masks.append(p.split('/')[6])\n",
    "    \n",
    "\n",
    "unvalidated_brain_masks.sort()\n",
    "\n",
    "unvalidated_brain_masks=set(unvalidated_brain_masks)\n",
    "\n",
    "len(unvalidated_brain_masks)"
   ]
  },
  {
   "cell_type": "code",
   "execution_count": 197,
   "metadata": {},
   "outputs": [
    {
     "name": "stdout",
     "output_type": "stream",
     "text": [
      "mr618\n",
      "mr498\n",
      "mr503\n",
      "mr582\n",
      "mr522\n",
      "mr513\n",
      "mr505\n",
      "mr536\n",
      "mr511\n",
      "mr523\n",
      "mr542\n",
      "mr533\n",
      "mr500\n",
      "mr516\n",
      "mr539\n",
      "mr519\n",
      "mr510\n",
      "mr514\n",
      "mr535\n"
     ]
    }
   ],
   "source": [
    "for i in unvalidated_brain_masks:\n",
    "    if i not in validated_scans:\n",
    "        print(i)"
   ]
  },
  {
   "cell_type": "code",
   "execution_count": 20,
   "metadata": {},
   "outputs": [],
   "source": [
    "second_version = '/home/Shahryar.Khorasani/netstore/tms/Validated_2021_06_03/validated_files/'"
   ]
  },
  {
   "cell_type": "code",
   "execution_count": 23,
   "metadata": {},
   "outputs": [],
   "source": [
    "#glob.glob(second_version + '*/*/*')"
   ]
  },
  {
   "cell_type": "code",
   "execution_count": 24,
   "metadata": {},
   "outputs": [
    {
     "ename": "NotADirectoryError",
     "evalue": "[Errno 20] Not a directory: '/home/Shahryar.Khorasani/netstore/tms/Validated_2021_06_03/validated_files/mr489/T1/flair' -> '/home/Shahryar.Khorasani/netstore/tms/Validated_2021_06_03/validated_files/mr640/t2f/t2fBrainExtractionMask_val.nii.gz'",
     "output_type": "error",
     "traceback": [
      "\u001b[0;31m---------------------------------------------------------------------------\u001b[0m",
      "\u001b[0;31mNotADirectoryError\u001b[0m                        Traceback (most recent call last)",
      "\u001b[0;32m<ipython-input-24-1557d8434eb4>\u001b[0m in \u001b[0;36m<module>\u001b[0;34m\u001b[0m\n\u001b[1;32m     12\u001b[0m \u001b[0;32mfor\u001b[0m \u001b[0mp\u001b[0m \u001b[0;32min\u001b[0m \u001b[0mglob\u001b[0m\u001b[0;34m.\u001b[0m\u001b[0mglob\u001b[0m\u001b[0;34m(\u001b[0m\u001b[0msecond_version\u001b[0m \u001b[0;34m+\u001b[0m \u001b[0;34m'*/*/*'\u001b[0m\u001b[0;34m)\u001b[0m\u001b[0;34m:\u001b[0m\u001b[0;34m\u001b[0m\u001b[0;34m\u001b[0m\u001b[0m\n\u001b[1;32m     13\u001b[0m     \u001b[0mnp\u001b[0m \u001b[0;34m=\u001b[0m \u001b[0mnp\u001b[0m\u001b[0;34m.\u001b[0m\u001b[0mreplace\u001b[0m\u001b[0;34m(\u001b[0m\u001b[0;34m'_mni.nii.gz'\u001b[0m\u001b[0;34m,\u001b[0m \u001b[0;34m''\u001b[0m\u001b[0;34m)\u001b[0m\u001b[0;34m\u001b[0m\u001b[0;34m\u001b[0m\u001b[0m\n\u001b[0;32m---> 14\u001b[0;31m     \u001b[0mos\u001b[0m\u001b[0;34m.\u001b[0m\u001b[0mrename\u001b[0m\u001b[0;34m(\u001b[0m\u001b[0mp\u001b[0m\u001b[0;34m,\u001b[0m\u001b[0mnp\u001b[0m\u001b[0;34m)\u001b[0m\u001b[0;34m\u001b[0m\u001b[0;34m\u001b[0m\u001b[0m\n\u001b[0m",
      "\u001b[0;31mNotADirectoryError\u001b[0m: [Errno 20] Not a directory: '/home/Shahryar.Khorasani/netstore/tms/Validated_2021_06_03/validated_files/mr489/T1/flair' -> '/home/Shahryar.Khorasani/netstore/tms/Validated_2021_06_03/validated_files/mr640/t2f/t2fBrainExtractionMask_val.nii.gz'"
     ]
    }
   ],
   "source": [
    "for p in glob.glob(second_version + '*/*/*'):\n",
    "    np =  p.replace(\" \", '')\n",
    "    os.rename(p,np)\n",
    "for p in glob.glob(second_version + '*/*/*'):\n",
    "    np = p.replace(\"(1)\", '')\n",
    "    os.rename(p,np)\n",
    "\n",
    "for p in glob.glob(second_version + '*/*/*'):\n",
    "    np = p.replace('_mni_val', 'BrainExtractionMask_val')\n",
    "    os.rename(p,np)\n",
    "    \n",
    "for p in glob.glob(second_version + '*/*/*'):    \n",
    "    np = np.replace('_mni.nii.gz', '')\n",
    "    os.rename(p,np)\n"
   ]
  },
  {
   "cell_type": "code",
   "execution_count": 30,
   "metadata": {},
   "outputs": [
    {
     "name": "stdout",
     "output_type": "stream",
     "text": [
      "/mnt/projects/charite-brains/derived/correct_naming_validated_files/validated_files/mr489/t1/flair\n",
      "/mnt/projects/charite-brains/derived/correct_naming_validated_files/validated_files/mr489/t1/seg\n",
      "/mnt/projects/charite-brains/derived/correct_naming_validated_files/validated_files/mr489/t1/t1c\n",
      "/mnt/projects/charite-brains/derived/correct_naming_validated_files/validated_files/mr489/t1/t2\n",
      "/mnt/projects/charite-brains/derived/correct_naming_validated_files/validated_files/mr489/t1/t2f\n"
     ]
    }
   ],
   "source": [
    "for p in glob.glob('/mnt/projects/charite-brains/derived/correct_naming_validated_files/validated_files/*/*/*'):\n",
    "    if p not in glob.glob('/mnt/projects/charite-brains/derived/correct_naming_validated_files/validated_files/*/*/*BrainExtractionMask_val.nii.gz'):\n",
    "        print(p)\n"
   ]
  },
  {
   "cell_type": "code",
   "execution_count": 1,
   "metadata": {},
   "outputs": [],
   "source": [
    "# organize dti dicom data for 37 cases 24.08.2022\n",
    "#move files from DTI_37 to their correct directory in original/dicom/... "
   ]
  },
  {
   "cell_type": "code",
   "execution_count": 5,
   "metadata": {},
   "outputs": [],
   "source": [
    "source = '/dhc/groups/charite-brains/original/DTI_37/DTI_37/'\n",
    "destination = '/dhc/groups/charite-brains/original/dicoms/'\n",
    "subjects = os.listdir(source)"
   ]
  },
  {
   "cell_type": "code",
   "execution_count": 6,
   "metadata": {},
   "outputs": [
    {
     "name": "stdout",
     "output_type": "stream",
     "text": [
      "['mr519', 'mr500', 'mr604', '.DS_Store', 'mr548', 'mr432', 'mr464', 'mr419', 'mr514', 'mr458', 'mr613', 'mr510', 'mr632', 'mr441', 'mr503', 'mr403', 'mr573', 'mr431', '._.DS_Store', 'mr455', 'mr616', 'mr457', 'mr498', 'mr543', 'mr443', 'mr449', 'mr406', 'mr598', 'mr602', 'mr415', 'mr611', 'mr454', 'mr559', 'mr430', 'mr554', 'mr612', 'mr618', 'mr416', 'mr511']\n"
     ]
    }
   ],
   "source": [
    "print(subjects)"
   ]
  },
  {
   "cell_type": "code",
   "execution_count": 8,
   "metadata": {},
   "outputs": [
    {
     "name": "stdout",
     "output_type": "stream",
     "text": [
      "[Errno 20] Not a directory: '/dhc/groups/charite-brains/original/DTI_37/DTI_37/.DS_Store/dti/'\n",
      "[Errno 20] Not a directory: '/dhc/groups/charite-brains/original/DTI_37/DTI_37/._.DS_Store/dti/'\n"
     ]
    }
   ],
   "source": [
    "for subject in subjects:\n",
    "    try:\n",
    "        os.makedirs(os.path.dirname(destination + subject + '/dti/'), exist_ok=True)\n",
    "        shutil.move(source + subject + '/dti/', destination + subject + '/dti/')\n",
    "    except os.error as e:\n",
    "        print(e)"
   ]
  },
  {
   "cell_type": "code",
   "execution_count": 2,
   "metadata": {},
   "outputs": [],
   "source": [
    "dti_subjects = glob.glob('/dhc/groups/charite-brains/original/dicoms/*/dti/dti/0000.dcm')"
   ]
  },
  {
   "cell_type": "code",
   "execution_count": 9,
   "metadata": {},
   "outputs": [],
   "source": [
    "dti_list = []\n",
    "for i in dti_subjects:\n",
    "    \n",
    "    dti_list.append(i.split('/')[6])"
   ]
  },
  {
   "cell_type": "code",
   "execution_count": 25,
   "metadata": {},
   "outputs": [],
   "source": [
    "for subject in glob.glob('/dhc/groups/charite-brains/original/niftis/*/t1c'):\n",
    "    if subject.split('/')[6] in dti_list:\n",
    "        shutil.copytree(subject, '/dhc/home/shahryar.khorasani/neurosugery_pipeline/data_transfer/' + '/'.join(subject.split('/')[6:]))"
   ]
  },
  {
   "cell_type": "code",
   "execution_count": 4,
   "metadata": {},
   "outputs": [],
   "source": [
    "BrainExtractSub = glob.glob('/dhc/home/shahryar.khorasani/neurosugery_pipeline/data_transfer/*/t1c/t1c_brain.nii.gz')"
   ]
  },
  {
   "cell_type": "code",
   "execution_count": 30,
   "metadata": {},
   "outputs": [],
   "source": [
    "t1c_mr_subs=[]\n",
    "for i in BrainExtractSub:\n",
    "    t1c_mr_subs.append(i.split('/')[6])"
   ]
  },
  {
   "cell_type": "markdown",
   "metadata": {},
   "source": [
    "###### for subject in os.listdir('/dhc/home/shahryar.khorasani/neurosugery_pipeline/data_transfer/'):\n",
    "    if subject.split('/')[4] not in BrainExtractSub: \n",
    "        print(subject.split('/')[4])"
   ]
  },
  {
   "cell_type": "code",
   "execution_count": 15,
   "metadata": {},
   "outputs": [],
   "source": [
    "clinical_csv = pd.read_csv('/dhc/groups/charite-brains/original/mri_data_clinical_data_11_2020.csv')"
   ]
  },
  {
   "cell_type": "code",
   "execution_count": 16,
   "metadata": {},
   "outputs": [
    {
     "data": {
      "text/html": [
       "<div>\n",
       "<style scoped>\n",
       "    .dataframe tbody tr th:only-of-type {\n",
       "        vertical-align: middle;\n",
       "    }\n",
       "\n",
       "    .dataframe tbody tr th {\n",
       "        vertical-align: top;\n",
       "    }\n",
       "\n",
       "    .dataframe thead th {\n",
       "        text-align: right;\n",
       "    }\n",
       "</style>\n",
       "<table border=\"1\" class=\"dataframe\">\n",
       "  <thead>\n",
       "    <tr style=\"text-align: right;\">\n",
       "      <th></th>\n",
       "      <th>ID</th>\n",
       "      <th>Age</th>\n",
       "      <th>Sex</th>\n",
       "      <th>Hemisphere</th>\n",
       "      <th>Grade</th>\n",
       "      <th>Recurency</th>\n",
       "      <th>MotorStatusPreOp</th>\n",
       "      <th>MotorStatusPostOp</th>\n",
       "      <th>MotorStatus3M</th>\n",
       "      <th>TumorTraktDistance</th>\n",
       "      <th>...</th>\n",
       "      <th>z_dim_b0</th>\n",
       "      <th>x_voxel_b0</th>\n",
       "      <th>y_voxel_b0</th>\n",
       "      <th>z_voxel_b0</th>\n",
       "      <th>x_dim_dti</th>\n",
       "      <th>y_dim_dti</th>\n",
       "      <th>z_dim_dti</th>\n",
       "      <th>x_voxel_dti</th>\n",
       "      <th>y_voxel_dti</th>\n",
       "      <th>z_voxel_dti</th>\n",
       "    </tr>\n",
       "  </thead>\n",
       "  <tbody>\n",
       "    <tr>\n",
       "      <th>0</th>\n",
       "      <td>341</td>\n",
       "      <td>42</td>\n",
       "      <td>1</td>\n",
       "      <td>1</td>\n",
       "      <td>3</td>\n",
       "      <td>1</td>\n",
       "      <td>5</td>\n",
       "      <td>5</td>\n",
       "      <td>5</td>\n",
       "      <td>15.0</td>\n",
       "      <td>...</td>\n",
       "      <td>999.0</td>\n",
       "      <td>999.000000</td>\n",
       "      <td>999.000000</td>\n",
       "      <td>999.0</td>\n",
       "      <td>999.0</td>\n",
       "      <td>999.0</td>\n",
       "      <td>999.0</td>\n",
       "      <td>999.000000</td>\n",
       "      <td>999.000000</td>\n",
       "      <td>999.0</td>\n",
       "    </tr>\n",
       "    <tr>\n",
       "      <th>1</th>\n",
       "      <td>343</td>\n",
       "      <td>70</td>\n",
       "      <td>0</td>\n",
       "      <td>1</td>\n",
       "      <td>4</td>\n",
       "      <td>0</td>\n",
       "      <td>5</td>\n",
       "      <td>5</td>\n",
       "      <td>5</td>\n",
       "      <td>7.8</td>\n",
       "      <td>...</td>\n",
       "      <td>999.0</td>\n",
       "      <td>999.000000</td>\n",
       "      <td>999.000000</td>\n",
       "      <td>999.0</td>\n",
       "      <td>999.0</td>\n",
       "      <td>999.0</td>\n",
       "      <td>999.0</td>\n",
       "      <td>999.000000</td>\n",
       "      <td>999.000000</td>\n",
       "      <td>999.0</td>\n",
       "    </tr>\n",
       "    <tr>\n",
       "      <th>2</th>\n",
       "      <td>346</td>\n",
       "      <td>78</td>\n",
       "      <td>1</td>\n",
       "      <td>0</td>\n",
       "      <td>4</td>\n",
       "      <td>0</td>\n",
       "      <td>5</td>\n",
       "      <td>5</td>\n",
       "      <td>5</td>\n",
       "      <td>19.4</td>\n",
       "      <td>...</td>\n",
       "      <td>999.0</td>\n",
       "      <td>999.000000</td>\n",
       "      <td>999.000000</td>\n",
       "      <td>999.0</td>\n",
       "      <td>999.0</td>\n",
       "      <td>999.0</td>\n",
       "      <td>999.0</td>\n",
       "      <td>999.000000</td>\n",
       "      <td>999.000000</td>\n",
       "      <td>999.0</td>\n",
       "    </tr>\n",
       "    <tr>\n",
       "      <th>3</th>\n",
       "      <td>347</td>\n",
       "      <td>55</td>\n",
       "      <td>1</td>\n",
       "      <td>0</td>\n",
       "      <td>4</td>\n",
       "      <td>0</td>\n",
       "      <td>4</td>\n",
       "      <td>5</td>\n",
       "      <td>5</td>\n",
       "      <td>7.0</td>\n",
       "      <td>...</td>\n",
       "      <td>999.0</td>\n",
       "      <td>999.000000</td>\n",
       "      <td>999.000000</td>\n",
       "      <td>999.0</td>\n",
       "      <td>999.0</td>\n",
       "      <td>999.0</td>\n",
       "      <td>999.0</td>\n",
       "      <td>999.000000</td>\n",
       "      <td>999.000000</td>\n",
       "      <td>999.0</td>\n",
       "    </tr>\n",
       "    <tr>\n",
       "      <th>4</th>\n",
       "      <td>348</td>\n",
       "      <td>56</td>\n",
       "      <td>0</td>\n",
       "      <td>0</td>\n",
       "      <td>4</td>\n",
       "      <td>0</td>\n",
       "      <td>4</td>\n",
       "      <td>4</td>\n",
       "      <td>4</td>\n",
       "      <td>0.0</td>\n",
       "      <td>...</td>\n",
       "      <td>999.0</td>\n",
       "      <td>999.000000</td>\n",
       "      <td>999.000000</td>\n",
       "      <td>999.0</td>\n",
       "      <td>999.0</td>\n",
       "      <td>999.0</td>\n",
       "      <td>999.0</td>\n",
       "      <td>999.000000</td>\n",
       "      <td>999.000000</td>\n",
       "      <td>999.0</td>\n",
       "    </tr>\n",
       "    <tr>\n",
       "      <th>...</th>\n",
       "      <td>...</td>\n",
       "      <td>...</td>\n",
       "      <td>...</td>\n",
       "      <td>...</td>\n",
       "      <td>...</td>\n",
       "      <td>...</td>\n",
       "      <td>...</td>\n",
       "      <td>...</td>\n",
       "      <td>...</td>\n",
       "      <td>...</td>\n",
       "      <td>...</td>\n",
       "      <td>...</td>\n",
       "      <td>...</td>\n",
       "      <td>...</td>\n",
       "      <td>...</td>\n",
       "      <td>...</td>\n",
       "      <td>...</td>\n",
       "      <td>...</td>\n",
       "      <td>...</td>\n",
       "      <td>...</td>\n",
       "      <td>...</td>\n",
       "    </tr>\n",
       "    <tr>\n",
       "      <th>136</th>\n",
       "      <td>638</td>\n",
       "      <td>38</td>\n",
       "      <td>0</td>\n",
       "      <td>1</td>\n",
       "      <td>2</td>\n",
       "      <td>0</td>\n",
       "      <td>5</td>\n",
       "      <td>5</td>\n",
       "      <td>5</td>\n",
       "      <td>5.3</td>\n",
       "      <td>...</td>\n",
       "      <td>999.0</td>\n",
       "      <td>999.000000</td>\n",
       "      <td>999.000000</td>\n",
       "      <td>999.0</td>\n",
       "      <td>96.0</td>\n",
       "      <td>96.0</td>\n",
       "      <td>67.0</td>\n",
       "      <td>2.395833</td>\n",
       "      <td>2.395833</td>\n",
       "      <td>2.2</td>\n",
       "    </tr>\n",
       "    <tr>\n",
       "      <th>137</th>\n",
       "      <td>639</td>\n",
       "      <td>55</td>\n",
       "      <td>1</td>\n",
       "      <td>1</td>\n",
       "      <td>2</td>\n",
       "      <td>0</td>\n",
       "      <td>5</td>\n",
       "      <td>5</td>\n",
       "      <td>5</td>\n",
       "      <td>2.0</td>\n",
       "      <td>...</td>\n",
       "      <td>30.0</td>\n",
       "      <td>1.437500</td>\n",
       "      <td>1.437500</td>\n",
       "      <td>4.4</td>\n",
       "      <td>999.0</td>\n",
       "      <td>999.0</td>\n",
       "      <td>999.0</td>\n",
       "      <td>999.000000</td>\n",
       "      <td>999.000000</td>\n",
       "      <td>999.0</td>\n",
       "    </tr>\n",
       "    <tr>\n",
       "      <th>138</th>\n",
       "      <td>640</td>\n",
       "      <td>81</td>\n",
       "      <td>1</td>\n",
       "      <td>1</td>\n",
       "      <td>4</td>\n",
       "      <td>0</td>\n",
       "      <td>5</td>\n",
       "      <td>5</td>\n",
       "      <td>5</td>\n",
       "      <td>0.0</td>\n",
       "      <td>...</td>\n",
       "      <td>44.0</td>\n",
       "      <td>0.598958</td>\n",
       "      <td>0.598958</td>\n",
       "      <td>3.3</td>\n",
       "      <td>384.0</td>\n",
       "      <td>384.0</td>\n",
       "      <td>44.0</td>\n",
       "      <td>0.598958</td>\n",
       "      <td>0.598958</td>\n",
       "      <td>3.3</td>\n",
       "    </tr>\n",
       "    <tr>\n",
       "      <th>139</th>\n",
       "      <td>643</td>\n",
       "      <td>27</td>\n",
       "      <td>1</td>\n",
       "      <td>1</td>\n",
       "      <td>4</td>\n",
       "      <td>0</td>\n",
       "      <td>0</td>\n",
       "      <td>0</td>\n",
       "      <td>0</td>\n",
       "      <td>0.0</td>\n",
       "      <td>...</td>\n",
       "      <td>999.0</td>\n",
       "      <td>999.000000</td>\n",
       "      <td>999.000000</td>\n",
       "      <td>999.0</td>\n",
       "      <td>999.0</td>\n",
       "      <td>999.0</td>\n",
       "      <td>999.0</td>\n",
       "      <td>999.000000</td>\n",
       "      <td>999.000000</td>\n",
       "      <td>999.0</td>\n",
       "    </tr>\n",
       "    <tr>\n",
       "      <th>140</th>\n",
       "      <td>576</td>\n",
       "      <td>999</td>\n",
       "      <td>999</td>\n",
       "      <td>999</td>\n",
       "      <td>999</td>\n",
       "      <td>999</td>\n",
       "      <td>999</td>\n",
       "      <td>999</td>\n",
       "      <td>999</td>\n",
       "      <td>999.0</td>\n",
       "      <td>...</td>\n",
       "      <td>66.0</td>\n",
       "      <td>2.187500</td>\n",
       "      <td>2.187500</td>\n",
       "      <td>2.2</td>\n",
       "      <td>96.0</td>\n",
       "      <td>96.0</td>\n",
       "      <td>66.0</td>\n",
       "      <td>2.187500</td>\n",
       "      <td>2.187500</td>\n",
       "      <td>2.2</td>\n",
       "    </tr>\n",
       "  </tbody>\n",
       "</table>\n",
       "<p>141 rows × 74 columns</p>\n",
       "</div>"
      ],
      "text/plain": [
       "      ID  Age  Sex  Hemisphere  Grade  Recurency  MotorStatusPreOp  \\\n",
       "0    341   42    1           1      3          1                 5   \n",
       "1    343   70    0           1      4          0                 5   \n",
       "2    346   78    1           0      4          0                 5   \n",
       "3    347   55    1           0      4          0                 4   \n",
       "4    348   56    0           0      4          0                 4   \n",
       "..   ...  ...  ...         ...    ...        ...               ...   \n",
       "136  638   38    0           1      2          0                 5   \n",
       "137  639   55    1           1      2          0                 5   \n",
       "138  640   81    1           1      4          0                 5   \n",
       "139  643   27    1           1      4          0                 0   \n",
       "140  576  999  999         999    999        999               999   \n",
       "\n",
       "     MotorStatusPostOp  MotorStatus3M  TumorTraktDistance  ...  z_dim_b0  \\\n",
       "0                    5              5                15.0  ...     999.0   \n",
       "1                    5              5                 7.8  ...     999.0   \n",
       "2                    5              5                19.4  ...     999.0   \n",
       "3                    5              5                 7.0  ...     999.0   \n",
       "4                    4              4                 0.0  ...     999.0   \n",
       "..                 ...            ...                 ...  ...       ...   \n",
       "136                  5              5                 5.3  ...     999.0   \n",
       "137                  5              5                 2.0  ...      30.0   \n",
       "138                  5              5                 0.0  ...      44.0   \n",
       "139                  0              0                 0.0  ...     999.0   \n",
       "140                999            999               999.0  ...      66.0   \n",
       "\n",
       "     x_voxel_b0  y_voxel_b0  z_voxel_b0  x_dim_dti  y_dim_dti  z_dim_dti  \\\n",
       "0    999.000000  999.000000       999.0      999.0      999.0      999.0   \n",
       "1    999.000000  999.000000       999.0      999.0      999.0      999.0   \n",
       "2    999.000000  999.000000       999.0      999.0      999.0      999.0   \n",
       "3    999.000000  999.000000       999.0      999.0      999.0      999.0   \n",
       "4    999.000000  999.000000       999.0      999.0      999.0      999.0   \n",
       "..          ...         ...         ...        ...        ...        ...   \n",
       "136  999.000000  999.000000       999.0       96.0       96.0       67.0   \n",
       "137    1.437500    1.437500         4.4      999.0      999.0      999.0   \n",
       "138    0.598958    0.598958         3.3      384.0      384.0       44.0   \n",
       "139  999.000000  999.000000       999.0      999.0      999.0      999.0   \n",
       "140    2.187500    2.187500         2.2       96.0       96.0       66.0   \n",
       "\n",
       "     x_voxel_dti  y_voxel_dti  z_voxel_dti  \n",
       "0     999.000000   999.000000        999.0  \n",
       "1     999.000000   999.000000        999.0  \n",
       "2     999.000000   999.000000        999.0  \n",
       "3     999.000000   999.000000        999.0  \n",
       "4     999.000000   999.000000        999.0  \n",
       "..           ...          ...          ...  \n",
       "136     2.395833     2.395833          2.2  \n",
       "137   999.000000   999.000000        999.0  \n",
       "138     0.598958     0.598958          3.3  \n",
       "139   999.000000   999.000000        999.0  \n",
       "140     2.187500     2.187500          2.2  \n",
       "\n",
       "[141 rows x 74 columns]"
      ]
     },
     "execution_count": 16,
     "metadata": {},
     "output_type": "execute_result"
    }
   ],
   "source": [
    "clinical_csv"
   ]
  },
  {
   "cell_type": "code",
   "execution_count": 34,
   "metadata": {},
   "outputs": [],
   "source": [
    "t1c_subs=[]\n",
    "for i in t1c_mr_subs:\n",
    "    \n",
    "    j=i.replace('mr','')\n",
    "    t1c_subs.append(j)"
   ]
  },
  {
   "cell_type": "code",
   "execution_count": 39,
   "metadata": {},
   "outputs": [],
   "source": [
    "t1c_subs_np = np.array(t1c_subs)"
   ]
  },
  {
   "cell_type": "code",
   "execution_count": 41,
   "metadata": {},
   "outputs": [],
   "source": [
    "t1c_subs_np = t1c_subs_np.astype(int)"
   ]
  },
  {
   "cell_type": "code",
   "execution_count": 42,
   "metadata": {},
   "outputs": [
    {
     "data": {
      "text/plain": [
       "array([455, 403, 573, 431, 441, 503, 458, 510, 464, 419, 514, 548, 432,\n",
       "       500, 519, 554, 416, 511, 618, 430, 454, 559, 415, 443, 449, 406,\n",
       "       598, 498, 543, 457])"
      ]
     },
     "execution_count": 42,
     "metadata": {},
     "output_type": "execute_result"
    }
   ],
   "source": [
    "t1c_subs_np"
   ]
  },
  {
   "cell_type": "code",
   "execution_count": 44,
   "metadata": {},
   "outputs": [],
   "source": [
    "dti_clinical_data = clinical_csv[clinical_csv.ID.isin(t1c_subs_np)]"
   ]
  },
  {
   "cell_type": "code",
   "execution_count": 45,
   "metadata": {},
   "outputs": [
    {
     "data": {
      "text/plain": [
       "Index(['ID', 'Age', 'Sex', 'Hemisphere', 'Grade', 'Recurency',\n",
       "       'MotorStatusPreOp', 'MotorStatusPostOp', 'MotorStatus3M',\n",
       "       'TumorTraktDistance', 'M1Infiltration', 'RMTsick', 'RMThealthy',\n",
       "       'RMTratio', 'FA', 'ADC', 'peritFA', 'peritADC', 'b0', 'dti', 'flair',\n",
       "       'seg', 't1', 't1c', 't2', 't2f', 'x_dim_t1', 'y_dim_t1', 'z_dim_t1',\n",
       "       'x_voxel_t1', 'y_voxel_t1', 'z_voxel_t1', 'x_dim_t1c', 'y_dim_t1c',\n",
       "       'z_dim_t1c', 'x_voxel_t1c', 'y_voxel_t1c', 'z_voxel_t1c', 'x_dim_t2',\n",
       "       'y_dim_t2', 'z_dim_t2', 'x_voxel_t2', 'y_voxel_t2', 'z_voxel_t2',\n",
       "       'x_dim_t2f', 'y_dim_t2f', 'z_dim_t2f', 'x_voxel_t2f', 'y_voxel_t2f',\n",
       "       'z_voxel_t2f', 'x_dim_flair', 'y_dim_flair', 'z_dim_flair',\n",
       "       'x_voxel_flair', 'y_voxel_flair', 'z_voxel_flair', 'x_dim_seg',\n",
       "       'y_dim_seg', 'z_dim_seg', 'x_voxel_seg', 'y_voxel_seg', 'z_voxel_seg',\n",
       "       'x_dim_b0', 'y_dim_b0', 'z_dim_b0', 'x_voxel_b0', 'y_voxel_b0',\n",
       "       'z_voxel_b0', 'x_dim_dti', 'y_dim_dti', 'z_dim_dti', 'x_voxel_dti',\n",
       "       'y_voxel_dti', 'z_voxel_dti'],\n",
       "      dtype='object')"
      ]
     },
     "execution_count": 45,
     "metadata": {},
     "output_type": "execute_result"
    }
   ],
   "source": [
    "dti_clinical_data.columns"
   ]
  },
  {
   "cell_type": "code",
   "execution_count": 46,
   "metadata": {},
   "outputs": [
    {
     "data": {
      "text/plain": [
       "51.7"
      ]
     },
     "execution_count": 46,
     "metadata": {},
     "output_type": "execute_result"
    }
   ],
   "source": [
    "dti_clinical_data[[Sex = dti_clinical_data.Age.mean()"
   ]
  },
  {
   "cell_type": "code",
   "execution_count": 47,
   "metadata": {},
   "outputs": [],
   "source": [
    "dti_clinical_data.to_csv('/dhc/home/shahryar.khorasani/neurosugery_pipeline/data_transfer/dti_subjects.csv', index=False)"
   ]
  },
  {
   "cell_type": "code",
   "execution_count": null,
   "metadata": {},
   "outputs": [],
   "source": []
  }
 ],
 "metadata": {
  "kernelspec": {
   "display_name": "Python 3",
   "language": "python",
   "name": "python3"
  },
  "language_info": {
   "codemirror_mode": {
    "name": "ipython",
    "version": 3
   },
   "file_extension": ".py",
   "mimetype": "text/x-python",
   "name": "python",
   "nbconvert_exporter": "python",
   "pygments_lexer": "ipython3",
   "version": "3.6.8"
  }
 },
 "nbformat": 4,
 "nbformat_minor": 4
}
