{
 "cells": [
  {
   "cell_type": "code",
   "execution_count": 40,
   "metadata": {},
   "outputs": [],
   "source": [
    "import utils\n",
    "\n",
    "dcm_path = 'test/dti'\n",
    "mif_path = '/test'\n",
    "nii_path = 'test'\n",
    "tr_mat_path = 'test'"
   ]
  },
  {
   "cell_type": "markdown",
   "metadata": {},
   "source": [
    "1) Decompress dcm files to a readable format for mrtrix (dcm files ==> dcm files)"
   ]
  },
  {
   "cell_type": "code",
   "execution_count": null,
   "metadata": {},
   "outputs": [],
   "source": [
    "utils.decompress_dicom(dcm_path)"
   ]
  },
  {
   "cell_type": "markdown",
   "metadata": {},
   "source": [
    "2) Convert dcm files to .mif file ( .dcm files ==> .mif file) "
   ]
  },
  {
   "cell_type": "code",
   "execution_count": null,
   "metadata": {},
   "outputs": [],
   "source": [
    "utils.dcm_to_mif(dcm_path, mif_path)"
   ]
  },
  {
   "cell_type": "markdown",
   "metadata": {},
   "source": [
    "3) Preprocessing of DWI.mif file (DWI.mif ==> DWI_preprocessed.mif)\n",
    "\n",
    "    1) Denosing (dwi->dwi_den)\n",
    "\n",
    "    2) Gibbs ringing removal (dwi_den->)\n",
    "\n",
    "    3) Bias field correction"
   ]
  },
  {
   "cell_type": "code",
   "execution_count": 4,
   "metadata": {},
   "outputs": [],
   "source": [
    "# put all into one function, have an option to define the name of the output, option (which parts to do)\n",
    "utils.denoising(mif_path) \n",
    "utils.gibbs_ringging_removal(mif_path)\n",
    "utils.bias_field_correction(mif_path)\n",
    "# again put it as an option\n",
    "utils.upscaling_mif_file(mif_path)"
   ]
  },
  {
   "cell_type": "markdown",
   "metadata": {},
   "source": [
    "4) Upscaling .mif file"
   ]
  },
  {
   "cell_type": "code",
   "execution_count": 18,
   "metadata": {},
   "outputs": [],
   "source": [
    "utils.upscaling_mif_file(mif_path)"
   ]
  },
  {
   "cell_type": "markdown",
   "metadata": {},
   "source": [
    "5) Registration to t1c (dwi_den_unr_unbia_up.mif ==> dwi_den_unr_pre_unbia_up_to_t1c.mif) \n",
    "\n",
    "    1) dwiextract (dwi_den_unr_unbia_up.mif ==> mean_b0_AP.nii.gz)\n",
    "\n",
    "    2) flirt (mean_b0_AP.nii.gz, mean_b0_AP.nii.gz ==> T_fsl.txt)\n",
    "\n",
    "    3) transformconvert  (mean_b0_AP.nii.gz, mean_b0_AP.nii.gz, T_fsl.txt ==> T_dwi_to_t1c.txt)\n",
    "\n",
    "    4) mrtransform (dwi_den_unr_pre_unbia_up.mif ==> dwi_den_unr_pre_unbia_up_to_t1c.mif)"
   ]
  },
  {
   "cell_type": "code",
   "execution_count": 17,
   "metadata": {},
   "outputs": [],
   "source": [
    "# change mat to matrix\n",
    "# comments on what is tr_mat_path\n",
    "# nii_path is the reference path\n",
    "# define mif_path as DWI image\n",
    "\n",
    "utils.register_dwi_to_t1c(mif_path, nii_path, tr_mat_path)\n"
   ]
  },
  {
   "cell_type": "markdown",
   "metadata": {},
   "source": [
    "6) mask estimation (DWI_preprocessed_registered_to_t1c.mif ==> mask.nii.gz)"
   ]
  },
  {
   "cell_type": "code",
   "execution_count": 20,
   "metadata": {},
   "outputs": [],
   "source": [
    "# one function \n",
    "# we may not need this command\n",
    "# try registration with masked DWI image? I could alo set an option for that\n",
    "utils.dwi_mask_estimation(mif_path)"
   ]
  },
  {
   "cell_type": "markdown",
   "metadata": {},
   "source": [
    "7) FOD estimation using mask ( DWI_preprocessed_registered_to_t1c.mif ==> wm_to_t1c.nii.gz )"
   ]
  },
  {
   "cell_type": "code",
   "execution_count": 21,
   "metadata": {},
   "outputs": [],
   "source": [
    "# we may not need this command\n",
    "utils.fod_estimation(mif_path)"
   ]
  },
  {
   "cell_type": "markdown",
   "metadata": {},
   "source": [
    "8) export bvecs and bvals (DWI_preprocessed_registered_to_t1c.mif ==> DWI_preprocessed_registered_to_t1c.nii.gz, bvecs, bvals)"
   ]
  },
  {
   "cell_type": "code",
   "execution_count": 41,
   "metadata": {},
   "outputs": [],
   "source": [
    "utils.export_bvecs_bvals(mif_path)"
   ]
  },
  {
   "cell_type": "markdown",
   "metadata": {},
   "source": [
    "9) Generate peaks ( wm_to_t1c.nii.gz ==> peaks_to_t1c.nii.gz )"
   ]
  },
  {
   "cell_type": "code",
   "execution_count": 24,
   "metadata": {},
   "outputs": [],
   "source": [
    "utils.generate_peaks(mif_path)"
   ]
  },
  {
   "cell_type": "markdown",
   "metadata": {},
   "source": [
    "10) TractSeg (peaks_to_t1c.nii.gz ==> tractogram)"
   ]
  },
  {
   "cell_type": "code",
   "execution_count": 22,
   "metadata": {},
   "outputs": [],
   "source": [
    "# set an option for tck (CST_left, CST_right, ...)\n",
    "utils.tract_seg(mif_path)"
   ]
  },
  {
   "cell_type": "code",
   "execution_count": 69,
   "metadata": {},
   "outputs": [],
   "source": [
    "!mrview dwi_den_unr_pre_unbia_up_to_t1c.mif"
   ]
  },
  {
   "cell_type": "code",
   "execution_count": 72,
   "metadata": {},
   "outputs": [
    {
     "name": "stdout",
     "output_type": "stream",
     "text": [
      "************************************************\n",
      "Image name:          \"dwi_den_unr_pre_unbia_up_to_t1c.nii.gz\"\n",
      "************************************************\n",
      "  Dimensions:        250 x 250 x 140 x 21\n",
      "  Voxel size:        1 x 1 x 1 x ?\n",
      "  Data strides:      [ -1 -2 3 4 ]\n",
      "  Format:            NIfTI-1.1 (GZip compressed)\n",
      "  Data type:         32 bit float (little endian)\n",
      "  Intensity scaling: offset = 0, multiplier = 1\n",
      "  Transform:               0.9999    -0.01321    0.001017      -122.5\n",
      "                          0.01323      0.9918      -0.127      -118.9\n",
      "                        0.0006689       0.127      0.9919      -32.76\n",
      "  comments:          TRIEBEL^MICHAEL (\n",
      "  mrtrix_version:    3.0.1\n"
     ]
    }
   ],
   "source": [
    "!mrinfo dwi_den_unr_pre_unbia_up_to_t1c.nii.gz"
   ]
  },
  {
   "cell_type": "code",
   "execution_count": null,
   "metadata": {},
   "outputs": [],
   "source": []
  }
 ],
 "metadata": {
  "interpreter": {
   "hash": "aee8b7b246df8f9039afb4144a1f6fd8d2ca17a180786b69acc140d282b71a49"
  },
  "kernelspec": {
   "display_name": "Python 3",
   "language": "python",
   "name": "python3"
  },
  "language_info": {
   "codemirror_mode": {
    "name": "ipython",
    "version": 3
   },
   "file_extension": ".py",
   "mimetype": "text/x-python",
   "name": "python",
   "nbconvert_exporter": "python",
   "pygments_lexer": "ipython3",
   "version": "3.6.8"
  }
 },
 "nbformat": 4,
 "nbformat_minor": 4
}
